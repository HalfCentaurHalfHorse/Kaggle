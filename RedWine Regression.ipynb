{
 "cells": [
  {
   "cell_type": "markdown",
   "metadata": {},
   "source": [
    "# Red Wine Regression"
   ]
  },
  {
   "cell_type": "code",
   "execution_count": 86,
   "metadata": {},
   "outputs": [],
   "source": [
    "# necessary imports \n",
    "import os\n",
    "import pandas as pd\n",
    "import numpy as np\n",
    "import math\n",
    "\n",
    "from scipy.optimize import minimize "
   ]
  },
  {
   "cell_type": "code",
   "execution_count": 122,
   "metadata": {},
   "outputs": [
    {
     "data": {
      "text/html": [
       "<div>\n",
       "<style scoped>\n",
       "    .dataframe tbody tr th:only-of-type {\n",
       "        vertical-align: middle;\n",
       "    }\n",
       "\n",
       "    .dataframe tbody tr th {\n",
       "        vertical-align: top;\n",
       "    }\n",
       "\n",
       "    .dataframe thead th {\n",
       "        text-align: right;\n",
       "    }\n",
       "</style>\n",
       "<table border=\"1\" class=\"dataframe\">\n",
       "  <thead>\n",
       "    <tr style=\"text-align: right;\">\n",
       "      <th></th>\n",
       "      <th>fixed acidity</th>\n",
       "      <th>volatile acidity</th>\n",
       "      <th>citric acid</th>\n",
       "      <th>residual sugar</th>\n",
       "      <th>chlorides</th>\n",
       "      <th>free sulfur dioxide</th>\n",
       "      <th>total sulfur dioxide</th>\n",
       "      <th>density</th>\n",
       "      <th>pH</th>\n",
       "      <th>sulphates</th>\n",
       "      <th>alcohol</th>\n",
       "      <th>quality</th>\n",
       "    </tr>\n",
       "  </thead>\n",
       "  <tbody>\n",
       "    <tr>\n",
       "      <th>0</th>\n",
       "      <td>7.4</td>\n",
       "      <td>0.70</td>\n",
       "      <td>0.00</td>\n",
       "      <td>1.9</td>\n",
       "      <td>0.076</td>\n",
       "      <td>11.0</td>\n",
       "      <td>34.0</td>\n",
       "      <td>0.9978</td>\n",
       "      <td>3.51</td>\n",
       "      <td>0.56</td>\n",
       "      <td>9.4</td>\n",
       "      <td>5</td>\n",
       "    </tr>\n",
       "    <tr>\n",
       "      <th>1</th>\n",
       "      <td>7.8</td>\n",
       "      <td>0.88</td>\n",
       "      <td>0.00</td>\n",
       "      <td>2.6</td>\n",
       "      <td>0.098</td>\n",
       "      <td>25.0</td>\n",
       "      <td>67.0</td>\n",
       "      <td>0.9968</td>\n",
       "      <td>3.20</td>\n",
       "      <td>0.68</td>\n",
       "      <td>9.8</td>\n",
       "      <td>5</td>\n",
       "    </tr>\n",
       "    <tr>\n",
       "      <th>2</th>\n",
       "      <td>7.8</td>\n",
       "      <td>0.76</td>\n",
       "      <td>0.04</td>\n",
       "      <td>2.3</td>\n",
       "      <td>0.092</td>\n",
       "      <td>15.0</td>\n",
       "      <td>54.0</td>\n",
       "      <td>0.9970</td>\n",
       "      <td>3.26</td>\n",
       "      <td>0.65</td>\n",
       "      <td>9.8</td>\n",
       "      <td>5</td>\n",
       "    </tr>\n",
       "    <tr>\n",
       "      <th>3</th>\n",
       "      <td>11.2</td>\n",
       "      <td>0.28</td>\n",
       "      <td>0.56</td>\n",
       "      <td>1.9</td>\n",
       "      <td>0.075</td>\n",
       "      <td>17.0</td>\n",
       "      <td>60.0</td>\n",
       "      <td>0.9980</td>\n",
       "      <td>3.16</td>\n",
       "      <td>0.58</td>\n",
       "      <td>9.8</td>\n",
       "      <td>6</td>\n",
       "    </tr>\n",
       "    <tr>\n",
       "      <th>4</th>\n",
       "      <td>7.4</td>\n",
       "      <td>0.70</td>\n",
       "      <td>0.00</td>\n",
       "      <td>1.9</td>\n",
       "      <td>0.076</td>\n",
       "      <td>11.0</td>\n",
       "      <td>34.0</td>\n",
       "      <td>0.9978</td>\n",
       "      <td>3.51</td>\n",
       "      <td>0.56</td>\n",
       "      <td>9.4</td>\n",
       "      <td>5</td>\n",
       "    </tr>\n",
       "  </tbody>\n",
       "</table>\n",
       "</div>"
      ],
      "text/plain": [
       "   fixed acidity  volatile acidity  citric acid  residual sugar  chlorides  \\\n",
       "0            7.4              0.70         0.00             1.9      0.076   \n",
       "1            7.8              0.88         0.00             2.6      0.098   \n",
       "2            7.8              0.76         0.04             2.3      0.092   \n",
       "3           11.2              0.28         0.56             1.9      0.075   \n",
       "4            7.4              0.70         0.00             1.9      0.076   \n",
       "\n",
       "   free sulfur dioxide  total sulfur dioxide  density    pH  sulphates  \\\n",
       "0                 11.0                  34.0   0.9978  3.51       0.56   \n",
       "1                 25.0                  67.0   0.9968  3.20       0.68   \n",
       "2                 15.0                  54.0   0.9970  3.26       0.65   \n",
       "3                 17.0                  60.0   0.9980  3.16       0.58   \n",
       "4                 11.0                  34.0   0.9978  3.51       0.56   \n",
       "\n",
       "   alcohol  quality  \n",
       "0      9.4        5  \n",
       "1      9.8        5  \n",
       "2      9.8        5  \n",
       "3      9.8        6  \n",
       "4      9.4        5  "
      ]
     },
     "execution_count": 122,
     "metadata": {},
     "output_type": "execute_result"
    }
   ],
   "source": [
    "# read the file \n",
    "os.chdir('C:\\\\Users\\mil_kry\\Desktop')\n",
    "df = pd.read_csv('winequality-red.csv', sep=';')\n",
    "df.head()"
   ]
  },
  {
   "cell_type": "markdown",
   "metadata": {},
   "source": [
    "Next, we are going to create the training sets and the test sets."
   ]
  },
  {
   "cell_type": "code",
   "execution_count": 50,
   "metadata": {},
   "outputs": [
    {
     "name": "stdout",
     "output_type": "stream",
     "text": [
      "X_train shape: (1279, 11), y_train shape: (1279,),X_test shape: (320, 11), y_test shape (320,)\n"
     ]
    }
   ],
   "source": [
    "# shuffle the dataset \n",
    "df = df.sample(frac=1)\n",
    "\n",
    "# split the data into features and class\n",
    "df_features = df.drop('quality', axis=1)\n",
    "df_class = df['quality']\n",
    "\n",
    "# perform train-test split\n",
    "split_point = math.floor(len(df)*0.8)\n",
    "\n",
    "X_train, y_train = df_features[:split_point], df_class[:split_point]\n",
    "X_test, y_test = df_features[split_point:], df_class[split_point:]\n",
    "\n",
    "# convert the datasets to np.array\n",
    "X_train, y_train = X_train.to_numpy(), y_train.to_numpy()\n",
    "X_test, y_test = X_test.to_numpy(), y_test.to_numpy()\n",
    "\n",
    "print('X_train shape: {}, y_train shape: {}, X_test shape: {}, y_test shape {}'\n",
    "      .format(X_train.shape, y_train.shape, X_test.shape, y_test.shape))"
   ]
  },
  {
   "cell_type": "markdown",
   "metadata": {},
   "source": [
    "# Regression Equations and Functions\n",
    "Given a vector $X = (X_{1}, X_{2}, ..., X_{n})$ where $n$ is the number of features and $\\beta$, \n",
    "the estimated value of $y$ is given by $\\hat{y} = \\sum_{i=1}^{n} \\beta_{i}X_{i}$.\n",
    "\n",
    "Given $m$ samples $X^{(1)}, ..., X^{(m)}$, $RSS = \\sum_{i=1}^{m} (y^{(i)} - \\hat{y}^{(i)})^2 \n",
    " = \\sum_{j=1}^{m} (y^{(j)} - \\sum_{i=1}^{n} \\beta_{i}X_{i}^{(j)})^2 $. "
   ]
  },
  {
   "cell_type": "code",
   "execution_count": 51,
   "metadata": {},
   "outputs": [],
   "source": [
    "# method for estimating y\n",
    "def estimate_y(β, X):\n",
    "    \"\"\"\n",
    "    :type β: np.array\n",
    "    :type X: np.array\n",
    "    :rtype: np.array\n",
    "    \"\"\"\n",
    "    return np.sum(β*X, axis=1)\n",
    "\n",
    "# method for computing RSS\n",
    "def RSS(β, X, y):\n",
    "    \"\"\"\n",
    "    :type β: np.array\n",
    "    :type X: np.array\n",
    "    :type y: np.array\n",
    "    :rtype: np.float64\n",
    "    \"\"\"\n",
    "    y_hat = estimate_y(β, X)\n",
    "    rss = np.sum((y-y_hat)**2)\n",
    "    return rss"
   ]
  },
  {
   "cell_type": "markdown",
   "metadata": {},
   "source": [
    "# Optimizing the model"
   ]
  },
  {
   "cell_type": "code",
   "execution_count": 52,
   "metadata": {},
   "outputs": [
    {
     "name": "stdout",
     "output_type": "stream",
     "text": [
      "res.fun:  539.5924177437923\n",
      "res.x: [-3.46160773e-03 -1.07802120e+00 -1.53704807e-01  9.62448748e-03\n",
      " -2.17181542e+00  3.16213117e-03 -3.11939467e-03  4.55377190e+00\n",
      " -5.39044869e-01  1.00221859e+00  3.00160117e-01]\n",
      "training set RSS: 539.5924177437923\n",
      "test set RSS: 128.15144765114803\n"
     ]
    }
   ],
   "source": [
    "# initialize β\n",
    "initial_β = np.random.normal(0, 1, X_train.shape[1])\n",
    "\n",
    "# fit the data using minimize from scipy\n",
    "res = minimize(fun=RSS, x0=initial_β, args=(X_train,y_train))\n",
    "\n",
    "print('res.fun: ', res.fun)\n",
    "print('res.x:', res.x)\n",
    "print('training set RSS:', RSS(res.x, X_train, y_train))\n",
    "print('test set RSS:', RSS(res.x, X_test, y_test))"
   ]
  },
  {
   "cell_type": "code",
   "execution_count": 53,
   "metadata": {},
   "outputs": [
    {
     "data": {
      "text/html": [
       "<div>\n",
       "<style scoped>\n",
       "    .dataframe tbody tr th:only-of-type {\n",
       "        vertical-align: middle;\n",
       "    }\n",
       "\n",
       "    .dataframe tbody tr th {\n",
       "        vertical-align: top;\n",
       "    }\n",
       "\n",
       "    .dataframe thead th {\n",
       "        text-align: right;\n",
       "    }\n",
       "</style>\n",
       "<table border=\"1\" class=\"dataframe\">\n",
       "  <thead>\n",
       "    <tr style=\"text-align: right;\">\n",
       "      <th></th>\n",
       "      <th>weight</th>\n",
       "    </tr>\n",
       "  </thead>\n",
       "  <tbody>\n",
       "    <tr>\n",
       "      <th>density</th>\n",
       "      <td>4.553772</td>\n",
       "    </tr>\n",
       "    <tr>\n",
       "      <th>chlorides</th>\n",
       "      <td>-2.171815</td>\n",
       "    </tr>\n",
       "    <tr>\n",
       "      <th>volatile acidity</th>\n",
       "      <td>-1.078021</td>\n",
       "    </tr>\n",
       "    <tr>\n",
       "      <th>sulphates</th>\n",
       "      <td>1.002219</td>\n",
       "    </tr>\n",
       "    <tr>\n",
       "      <th>pH</th>\n",
       "      <td>-0.539045</td>\n",
       "    </tr>\n",
       "    <tr>\n",
       "      <th>alcohol</th>\n",
       "      <td>0.300160</td>\n",
       "    </tr>\n",
       "    <tr>\n",
       "      <th>citric acid</th>\n",
       "      <td>-0.153705</td>\n",
       "    </tr>\n",
       "    <tr>\n",
       "      <th>residual sugar</th>\n",
       "      <td>0.009624</td>\n",
       "    </tr>\n",
       "    <tr>\n",
       "      <th>fixed acidity</th>\n",
       "      <td>-0.003462</td>\n",
       "    </tr>\n",
       "    <tr>\n",
       "      <th>free sulfur dioxide</th>\n",
       "      <td>0.003162</td>\n",
       "    </tr>\n",
       "    <tr>\n",
       "      <th>total sulfur dioxide</th>\n",
       "      <td>-0.003119</td>\n",
       "    </tr>\n",
       "  </tbody>\n",
       "</table>\n",
       "</div>"
      ],
      "text/plain": [
       "                        weight\n",
       "density               4.553772\n",
       "chlorides            -2.171815\n",
       "volatile acidity     -1.078021\n",
       "sulphates             1.002219\n",
       "pH                   -0.539045\n",
       "alcohol               0.300160\n",
       "citric acid          -0.153705\n",
       "residual sugar        0.009624\n",
       "fixed acidity        -0.003462\n",
       "free sulfur dioxide   0.003162\n",
       "total sulfur dioxide -0.003119"
      ]
     },
     "execution_count": 53,
     "metadata": {},
     "output_type": "execute_result"
    }
   ],
   "source": [
    "# construct a table of weights sorted by abs(weight) DESC\n",
    "pd.DataFrame(res.x, df.columns[:-1], columns={'weight'}).sort_values(by='weight', key= lambda x:abs(x), ascending=False)"
   ]
  },
  {
   "cell_type": "markdown",
   "metadata": {},
   "source": [
    "# Results from the First Model\n",
    "The table above shows the features and their corresponding weights. Observe that the features with the highest absolute weight are density, chlorides, volatile acidity, and sulphates. Thus they seem to be the most important ones given no further investigation.\n",
    "\n",
    "The magnitude of features in this model shouldn't matter much as the weights of the features would rescale to the magnitude of the features and perform almost identically to the original model.\n",
    "\n",
    "The RSS on the test set is 128.15. Thus the mean sqaured error is 128.15/len(y_test) = 0.40 and root mean square error is 0.63. So approximately every prediction on the test set is off by 0.63. \n",
    "\n",
    "If we change the initial value of β, the results won't change. Similarly, changing the initial magnitude of β won't affect the results. The following code gives two examples. "
   ]
  },
  {
   "cell_type": "code",
   "execution_count": 54,
   "metadata": {},
   "outputs": [
    {
     "name": "stdout",
     "output_type": "stream",
     "text": [
      "[0, 0, 0, 0, 0, 0, 0, 0, 0, 0, 0]\n",
      "res.fun: 539.5924177437333\n",
      "[  4.83649688  13.65446534  14.35133946 -18.37003083  10.33030271\n",
      "   9.57356697   8.32564587  -0.65032041  11.17761685  11.0575306\n",
      "  -5.0573691 ]\n",
      "res.fun: 539.5924177437963\n"
     ]
    }
   ],
   "source": [
    "# initialize β to all 0s\n",
    "initial_β = [0 for i in range(X_train.shape[1])]\n",
    "res = minimize(fun=RSS, x0=initial_β, args=(X_train,y_train))\n",
    "print(initial_β)\n",
    "print('res.fun:',res.fun)\n",
    "\n",
    "# initialize β to a larger magnitude\n",
    "initial_β = np.random.normal(10, 10, X_train.shape[1])\n",
    "res = minimize(fun=RSS, x0=initial_β, args=(X_train,y_train))\n",
    "print(initial_β)\n",
    "print('res.fun:', res.fun)"
   ]
  },
  {
   "cell_type": "markdown",
   "metadata": {},
   "source": [
    "The choice of solver, however, does influence the RSS. "
   ]
  },
  {
   "cell_type": "code",
   "execution_count": 55,
   "metadata": {},
   "outputs": [
    {
     "name": "stdout",
     "output_type": "stream",
     "text": [
      "Nelder-Mead: 64103.83070252783\n",
      "Powell: 539.6024762482493\n",
      "CG: 539.9381973882678\n",
      "BFGS: 539.5924177437963\n",
      "L-BFGS-B: 539.6008381187216\n",
      "TNC: 26158.014903288327\n",
      "COBYLA: 530465.0221243631\n",
      "SLSQP: 539.5924179577619\n"
     ]
    }
   ],
   "source": [
    "# pick 8 solvers\n",
    "solver_lst = ['Nelder-Mead', 'Powell', 'CG', 'BFGS', 'L-BFGS-B', 'TNC', \n",
    "             'COBYLA','SLSQP']\n",
    "\n",
    "for solver in solver_lst:\n",
    "    print('{}:'.format(solver), minimize(fun=RSS, x0=initial_β, args=(X_train,y_train), method=solver).fun)"
   ]
  },
  {
   "cell_type": "markdown",
   "metadata": {},
   "source": [
    "Taking a look at the printed information, 3 out of 8 solvers output extremely high RSS while the remaining solvers seem to be consistent with our first result."
   ]
  },
  {
   "cell_type": "markdown",
   "metadata": {},
   "source": [
    "# Regularizing the model"
   ]
  },
  {
   "cell_type": "code",
   "execution_count": 95,
   "metadata": {},
   "outputs": [],
   "source": [
    "# method for ridge regression\n",
    "def RSS_Ridge(β, X, y, λ):\n",
    "    \"\"\"\n",
    "    :type β: np.array\n",
    "    :type X: np.array\n",
    "    :type y: np.array\n",
    "    :type λ: numpy.float64\n",
    "    :rtype: np.float64\n",
    "    \"\"\"\n",
    "    # compute y_hat \n",
    "    y_hat = estimate_y(β, X)\n",
    "    # compute rss_ridge\n",
    "    rss_L2 = RSS(β, X, y) + λ * np.sum(β**2)\n",
    "    return rss_L2\n",
    "\n",
    "# method for lasso regression\n",
    "def RSS_Lasso(β, X, y, λ):\n",
    "    \"\"\"\n",
    "    :type β: np.array\n",
    "    :type X: np.array\n",
    "    :type y: np.array\n",
    "    :type λ: numpy.float64\n",
    "    :rtype: np.float64\n",
    "    \"\"\"\n",
    "    # compute y_hat \n",
    "    y_hat = estimate_y(β, X)\n",
    "    # compute rss_lasso\n",
    "    rss_L1 = RSS(β, X, y) + λ * np.sum(abs(β))\n",
    "    return rss_L1\n",
    "\n",
    "# method for searching for the best lambda on the test set \n",
    "def search_best_λ(cost_function, λ_list):\n",
    "    \"\"\"\n",
    "    :type cost_function: function\n",
    "    :type λ_list: list\n",
    "    :rtype: tuple\n",
    "    \"\"\"\n",
    "    train_lst_L2 = []\n",
    "    test_lst_L2 = []\n",
    "    for λ in λ_list:\n",
    "        res = minimize(fun=cost_function, x0=initial_β, args=(X_train,y_train,λ))\n",
    "        test_lst_L2.append(RSS(res.x, X_test, y_test))\n",
    "        train_lst_L2.append(RSS(res.x, X_train, y_train))\n",
    "        \n",
    "    # find the best λ\n",
    "    min_index = np.argmin(test_lst_L2)\n",
    "    \n",
    "    # return the best λ, the best RSS on test set, the RSS list on train set, the RSS list on test set\n",
    "    return round(λ_list[min_index],2), test_lst_L2[min_index], train_lst_L2, test_lst_L2"
   ]
  },
  {
   "cell_type": "code",
   "execution_count": 115,
   "metadata": {},
   "outputs": [
    {
     "name": "stdout",
     "output_type": "stream",
     "text": [
      "best_λ_L1:  0.16\n",
      "best_RSS_L2:  127.9975020693176\n"
     ]
    }
   ],
   "source": [
    "# create a list of λ to tune \n",
    "λ_lst = list(np.arange(0.01,1,0.05)) + list(np.arange(1,10,0.5))\n",
    "\n",
    "# Train a model using Ridge Regression\n",
    "best_λ_L1, best_RSS_L2, train_lst_L2, test_lst_L2 = search_best_λ(RSS_Ridge, λ_lst)\n",
    "\n",
    "print('best_λ_L1: ', best_λ_L1)\n",
    "print('best_RSS_L2: ', best_RSS_L2)"
   ]
  },
  {
   "cell_type": "markdown",
   "metadata": {},
   "source": [
    "Note that the best λ is 0.16 and the corresponding RSS is 128.00, which is slightly better than the original RSS 128.15. Now let's plot the RSS on the training set and the test set."
   ]
  },
  {
   "cell_type": "code",
   "execution_count": 116,
   "metadata": {},
   "outputs": [
    {
     "data": {
      "text/plain": [
       "Text(0.5, 0, 'λ')"
      ]
     },
     "execution_count": 116,
     "metadata": {},
     "output_type": "execute_result"
    },
    {
     "data": {
      "image/png": "[encoded data removed]",
      "text/plain": [
       "<Figure size 1152x288 with 2 Axes>"
      ]
     },
     "metadata": {
      "needs_background": "light"
     },
     "output_type": "display_data"
    }
   ],
   "source": [
    "# plot the RSS_L2 on the training data\n",
    "plt.figure(figsize=(16,4))\n",
    "plt.subplot(1, 2, 1)\n",
    "plt.plot(λ_lst, train_lst_L2, color='blue')\n",
    "#plt.plot(λ_lst, test_lst_L2,label='test RSS')\n",
    "plt.title('Ridge RSS on Training Data')\n",
    "plt.ylabel('RSS')\n",
    "plt.xlabel('λ')\n",
    "\n",
    "# plot the RSS_L2 on the test data\n",
    "plt.subplot(1, 2, 2)\n",
    "plt.plot(λ_lst, test_lst_L2, color='red')\n",
    "plt.title('Ridge RSS on Test Data')\n",
    "plt.ylabel('RSS')\n",
    "plt.xlabel('λ')"
   ]
  },
  {
   "cell_type": "markdown",
   "metadata": {},
   "source": [
    "Observe that the RSS on the training data increased steadily, whereas the RSS on the test data first reached a local minimum and then went on to a steady increase. Next we'll do the same thing for Lasso Regression."
   ]
  },
  {
   "cell_type": "code",
   "execution_count": 117,
   "metadata": {},
   "outputs": [
    {
     "name": "stderr",
     "output_type": "stream",
     "text": [
      "D:\\anaconda\\lib\\site-packages\\scipy\\optimize\\optimize.py:1058: RuntimeWarning: divide by zero encountered in double_scalars\n",
      "  rhok = 1.0 / (numpy.dot(yk, sk))\n"
     ]
    },
    {
     "name": "stdout",
     "output_type": "stream",
     "text": [
      "best_λ_L1:  1.5\n",
      "best_RSS_L1:  127.83086974244273\n"
     ]
    }
   ],
   "source": [
    "# Train a model using Lasso Regression\n",
    "best_λ_L1, best_RSS_L1, train_lst_L1, test_lst_L1 = search_best_λ(RSS_Lasso, λ_lst)\n",
    "\n",
    "print('best_λ_L1: ', best_λ_L1)\n",
    "print('best_RSS_L1: ', best_RSS_L1)"
   ]
  },
  {
   "cell_type": "markdown",
   "metadata": {},
   "source": [
    "Note that the best λ is 1.5 and the corresponding RSS is 127.83, which is slightly better than the original RSS 128.15 and the best RSS from Ridge Regression which is 128.00. Now let's plot the RSS on the training set and the test set."
   ]
  },
  {
   "cell_type": "code",
   "execution_count": 120,
   "metadata": {},
   "outputs": [
    {
     "data": {
      "text/plain": [
       "Text(0.5, 0, 'λ')"
      ]
     },
     "execution_count": 120,
     "metadata": {},
     "output_type": "execute_result"
    },
    {
     "data": {
      "image/png": "[encoded data removed]",
      "text/plain": [
       "<Figure size 1152x288 with 2 Axes>"
      ]
     },
     "metadata": {
      "needs_background": "light"
     },
     "output_type": "display_data"
    }
   ],
   "source": [
    "# plot the RSS_L2 on the training data\n",
    "plt.figure(figsize=(16,4))\n",
    "plt.subplot(1, 2, 1)\n",
    "plt.plot(λ_lst, train_lst_L1, color='green')\n",
    "#plt.plot(λ_lst, test_lst_L2,label='test RSS')\n",
    "plt.title('Lasso RSS on Training Data')\n",
    "plt.ylabel('RSS')\n",
    "plt.xlabel('λ')\n",
    "\n",
    "# plot the RSS_L2 on the test data\n",
    "plt.subplot(1, 2, 2)\n",
    "plt.plot(λ_lst, test_lst_L1, color='orange')\n",
    "plt.title('Lasso RSS on Test Data')\n",
    "plt.ylabel('RSS')\n",
    "plt.xlabel('λ')"
   ]
  },
  {
   "cell_type": "markdown",
   "metadata": {},
   "source": [
    "Observe that the RSS on the training data increased steadily, but not as fast as ridge regression. The RSS on the test data first reached a local minimum and then increased steadily.\n",
    "\n",
    "When it comes to regularization terms, the magnitude of the data should matter. Say we have a feature on a very small scale, then if the feature is actually influential, its weight would be relatively large. But since regularization terms penalize weight indiscriminately, that feature would not be as influential as it should be. "
   ]
  }
 ],
 "metadata": {
  "kernelspec": {
   "display_name": "Python 3",
   "language": "python",
   "name": "python3"
  },
  "language_info": {
   "codemirror_mode": {
    "name": "ipython",
    "version": 3
   },
   "file_extension": ".py",
   "mimetype": "text/x-python",
   "name": "python",
   "nbconvert_exporter": "python",
   "pygments_lexer": "ipython3",
   "version": "3.7.3"
  }
 },
 "nbformat": 4,
 "nbformat_minor": 2
}
